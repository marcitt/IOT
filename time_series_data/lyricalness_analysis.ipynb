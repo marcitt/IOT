{
 "cells": [
  {
   "cell_type": "code",
   "execution_count": 13,
   "metadata": {},
   "outputs": [],
   "source": [
    "import pandas as pd\n",
    "import numpy as np\n",
    "import math"
   ]
  },
  {
   "cell_type": "code",
   "execution_count": 29,
   "metadata": {},
   "outputs": [],
   "source": [
    "df = pd.read_csv(\"datasets/lyric-data.csv\")"
   ]
  },
  {
   "cell_type": "code",
   "execution_count": 30,
   "metadata": {},
   "outputs": [],
   "source": [
    "import numpy as np\n",
    "import pandas as pd\n",
    "\n",
    "lyrics = list(df[\"lyric-count\"])\n",
    "lyrics_without_na = [x for x in lyrics if pd.notna(x)]\n",
    "\n",
    "avg = np.average(lyrics_without_na)\n"
   ]
  },
  {
   "cell_type": "code",
   "execution_count": 31,
   "metadata": {},
   "outputs": [
    {
     "data": {
      "text/plain": [
       "np.float64(274.42857142857144)"
      ]
     },
     "execution_count": 31,
     "metadata": {},
     "output_type": "execute_result"
    }
   ],
   "source": [
    "avg"
   ]
  },
  {
   "cell_type": "code",
   "execution_count": 35,
   "metadata": {},
   "outputs": [
    {
     "name": "stdout",
     "output_type": "stream",
     "text": [
      "ModeResult(mode=np.float64(249.0), count=np.int64(2))\n",
      "830.0\n",
      "6.0\n",
      "824.0\n"
     ]
    }
   ],
   "source": [
    "# https://www.geeksforgeeks.org/descriptive-statistic/\n",
    "from scipy import stats\n",
    "mode = stats.mode(lyrics_without_na)\n",
    "max = max(lyrics_without_na)\n",
    "min = min(lyrics_without_na)\n",
    "range = max-min\n",
    "print(mode)\n",
    "print(max)\n",
    "print(min)\n",
    "print(range)"
   ]
  },
  {
   "cell_type": "code",
   "execution_count": 39,
   "metadata": {},
   "outputs": [
    {
     "name": "stdout",
     "output_type": "stream",
     "text": [
      "Var =  22012.83116883117\n",
      "Std =  148.36721729826698\n"
     ]
    }
   ],
   "source": [
    "import statistics\n",
    "print(\"Var = \", (statistics.variance(lyrics_without_na)))\n",
    "print(\"Std = \", (statistics.stdev(lyrics_without_na)))"
   ]
  }
 ],
 "metadata": {
  "kernelspec": {
   "display_name": "IOT",
   "language": "python",
   "name": "python3"
  },
  "language_info": {
   "codemirror_mode": {
    "name": "ipython",
    "version": 3
   },
   "file_extension": ".py",
   "mimetype": "text/x-python",
   "name": "python",
   "nbconvert_exporter": "python",
   "pygments_lexer": "ipython3",
   "version": "3.9.20"
  }
 },
 "nbformat": 4,
 "nbformat_minor": 2
}
