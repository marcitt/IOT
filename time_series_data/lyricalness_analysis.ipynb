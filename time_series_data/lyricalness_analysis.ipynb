{
 "cells": [
  {
   "cell_type": "code",
   "execution_count": 13,
   "metadata": {},
   "outputs": [],
   "source": [
    "import pandas as pd\n",
    "import numpy as np\n",
    "import math"
   ]
  },
  {
   "cell_type": "code",
   "execution_count": 29,
   "metadata": {},
   "outputs": [],
   "source": [
    "df = pd.read_csv(\"datasets/lyric-data.csv\")"
   ]
  },
  {
   "cell_type": "code",
   "execution_count": 30,
   "metadata": {},
   "outputs": [],
   "source": [
    "import numpy as np\n",
    "import pandas as pd\n",
    "\n",
    "lyrics = list(df[\"lyric-count\"])\n",
    "lyrics_without_na = [x for x in lyrics if pd.notna(x)]\n",
    "\n",
    "avg = np.average(lyrics_without_na)\n"
   ]
  },
  {
   "cell_type": "code",
   "execution_count": 31,
   "metadata": {},
   "outputs": [
    {
     "data": {
      "text/plain": [
       "np.float64(274.42857142857144)"
      ]
     },
     "execution_count": 31,
     "metadata": {},
     "output_type": "execute_result"
    }
   ],
   "source": [
    "avg"
   ]
  },
  {
   "cell_type": "code",
   "execution_count": 35,
   "metadata": {},
   "outputs": [
    {
     "name": "stdout",
     "output_type": "stream",
     "text": [
      "ModeResult(mode=np.float64(249.0), count=np.int64(2))\n",
      "830.0\n",
      "6.0\n",
      "824.0\n"
     ]
    }
   ],
   "source": [
    "# https://www.geeksforgeeks.org/descriptive-statistic/\n",
    "from scipy import stats\n",
    "mode = stats.mode(lyrics_without_na)\n",
    "max = max(lyrics_without_na)\n",
    "min = min(lyrics_without_na)\n",
    "range = max-min\n",
    "print(mode)\n",
    "print(max)\n",
    "print(min)\n",
    "print(range)"
   ]
  },
  {
   "cell_type": "code",
   "execution_count": null,
   "metadata": {},
   "outputs": [
    {
     "name": "stdout",
     "output_type": "stream",
     "text": [
      "Var =  22012.83116883117\n"
     ]
    },
    {
     "ename": "NameError",
     "evalue": "name 'arr' is not defined",
     "output_type": "error",
     "traceback": [
      "\u001b[0;31m---------------------------------------------------------------------------\u001b[0m",
      "\u001b[0;31mNameError\u001b[0m                                 Traceback (most recent call last)",
      "Cell \u001b[0;32mIn[38], line 3\u001b[0m\n\u001b[1;32m      1\u001b[0m \u001b[38;5;28;01mimport\u001b[39;00m \u001b[38;5;21;01mstatistics\u001b[39;00m\n\u001b[1;32m      2\u001b[0m \u001b[38;5;28mprint\u001b[39m(\u001b[38;5;124m\"\u001b[39m\u001b[38;5;124mVar = \u001b[39m\u001b[38;5;124m\"\u001b[39m, (statistics\u001b[38;5;241m.\u001b[39mvariance(lyrics_without_na)))\n\u001b[0;32m----> 3\u001b[0m \u001b[38;5;28mprint\u001b[39m(\u001b[38;5;124m\"\u001b[39m\u001b[38;5;124mStd = \u001b[39m\u001b[38;5;124m\"\u001b[39m, (statistics\u001b[38;5;241m.\u001b[39mstdev(\u001b[43marr\u001b[49m)))\n",
      "\u001b[0;31mNameError\u001b[0m: name 'arr' is not defined"
     ]
    }
   ],
   "source": [
    "import statistics\n",
    "print(\"Var = \", (statistics.variance(lyrics_without_na)))\n",
    "print(\"Std = \", (statistics.stdev(lyrics_without_na)))"
   ]
  }
 ],
 "metadata": {
  "kernelspec": {
   "display_name": "IOT",
   "language": "python",
   "name": "python3"
  },
  "language_info": {
   "codemirror_mode": {
    "name": "ipython",
    "version": 3
   },
   "file_extension": ".py",
   "mimetype": "text/x-python",
   "name": "python",
   "nbconvert_exporter": "python",
   "pygments_lexer": "ipython3",
   "version": "3.9.20"
  }
 },
 "nbformat": 4,
 "nbformat_minor": 2
}
