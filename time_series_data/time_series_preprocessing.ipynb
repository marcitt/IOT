{
 "cells": [
  {
   "cell_type": "code",
   "execution_count": null,
   "metadata": {},
   "outputs": [],
   "source": [
    "import pandas as pd\n",
    "import numpy as np\n",
    "\n",
    "from bs4 import BeautifulSoup\n",
    "import re\n",
    "\n",
    "import deezer\n",
    "import requests\n",
    "\n",
    "import os"
   ]
  },
  {
   "cell_type": "markdown",
   "metadata": {},
   "source": [
    "# Function Definitions\n",
    "These functions should be converted to imports instead"
   ]
  },
  {
   "cell_type": "code",
   "execution_count": null,
   "metadata": {},
   "outputs": [],
   "source": [
    "client = deezer.Client()\n",
    "\n",
    "\n",
    "def get_song_bpm(track, artist):\n",
    "    try:\n",
    "        result = client.search(track=track, artist=artist)\n",
    "\n",
    "        if result:\n",
    "            print(f\"getting bpm for {track} by {artist}\")\n",
    "            bpm = result[0].bpm\n",
    "            if bpm:\n",
    "                return bpm\n",
    "            else:\n",
    "                print(\"BPM not found\")\n",
    "                return None\n",
    "        else:\n",
    "            print(\"Song not found\")\n",
    "            return None\n",
    "\n",
    "    # GPT-4 was used to generate error handling code here:\n",
    "    except requests.exceptions.HTTPError as http_err:\n",
    "        if http_err.response.status_code == 403:\n",
    "            print(\n",
    "                \"403 Error: Access Forbidden. Please check your API key or authentication.\"\n",
    "            )\n",
    "        else:\n",
    "            print(f\"HTTP error occurred: {http_err}\")  # For other HTTP errors\n",
    "    except Exception as err:\n",
    "        print(f\"An error occurred: {err}\")"
   ]
  },
  {
   "cell_type": "code",
   "execution_count": null,
   "metadata": {},
   "outputs": [],
   "source": [
    "def prepare_url(artist, song):\n",
    "    artist_lower = artist.lower()\n",
    "    artist_clean = re.sub(\n",
    "        r\"[^a-zA-Z0-9 ]\", \"\", artist_lower\n",
    "    )  # remove non alphanumeric characters + keep spaces using a regular expression\n",
    "    # reference: https://flexiple.com/python/remove-non-alphanumeric-characters-python\n",
    "\n",
    "    artist_url = artist_clean.replace(\" \", \"-\").capitalize()  # convert to kebab case\n",
    "\n",
    "    song_lower = song.lower()\n",
    "    song_clean = re.sub(\n",
    "        r\"[^a-zA-Z0-9 ]\", \"\", song_lower\n",
    "    )  # remove non alphanumeric characters + keep spaces\n",
    "    song_url = song_clean.replace(\" \", \"-\")  # convert to kebab case\n",
    "\n",
    "    # prepre for genius format:\n",
    "    url = \"https://genius.com/\" + artist_url + \"-\" + song_url + \"-lyrics\"\n",
    "\n",
    "    return url\n",
    "\n",
    "\n",
    "def get_lyrics(url):\n",
    "    page = requests.get(url)\n",
    "    html = BeautifulSoup(page.text, \"html.parser\")\n",
    "    lyrics_divs = html.find_all(\"div\", attrs={\"data-lyrics-container\": \"true\"})\n",
    "\n",
    "    if not lyrics_divs:\n",
    "        print(f\"Could not find lyrics for {url}\")\n",
    "        return None\n",
    "\n",
    "    lyrics = \"\\n\".join([div.get_text(separator=\"\\n\") for div in lyrics_divs])\n",
    "    lyrics = re.sub(r\"[\\(\\[].*?[\\)\\]]\", \"\", lyrics)\n",
    "    lyrics = os.linesep.join([s for s in lyrics.splitlines() if s])\n",
    "\n",
    "    return lyrics\n",
    "    # reference: https://medium.com/@rachit.lsoni/scraping-song-lyrics-a-fun-and-practical-guide-c0b07e8e7312\n",
    "\n",
    "\n",
    "def compute_lyricalness(artist, song):\n",
    "    url = prepare_url(artist, song)\n",
    "    lyrics = get_lyrics(url)\n",
    "\n",
    "    if lyrics:\n",
    "        # for initial implementation use simple measure of number of words per song\n",
    "        return len(lyrics.split())\n",
    "    else:\n",
    "        return None"
   ]
  },
  {
   "cell_type": "code",
   "execution_count": null,
   "metadata": {},
   "outputs": [],
   "source": [
    "df = pd.read_csv(\"music-listening-data.csv\")\n",
    "df = df.drop(labels=[\"id\", \"timestamp\", \"model-version\", \"track-id\"], axis=1)\n",
    "\n",
    "tracks = df[\"track-title\"]\n",
    "artists = df[\"artist\"]\n",
    "\n",
    "# unique_tracks = df[\"track-title\"].unique()\n",
    "# unique_artists = df[\"artist\"].unique()\n",
    "# was going to use this to get all the songs I need to find metadata for but if there are tracks from the same artist it might cause problems\n",
    "\n",
    "# https://www.geeksforgeeks.org/python-iterate-multiple-lists-simultaneously/\n",
    "track_dict = {}\n",
    "for track, artist in zip(tracks, artists):\n",
    "    track_dict[track] = artist\n",
    "# the end result will only contain unique keys for each song - artist repeats will not be impacted"
   ]
  },
  {
   "cell_type": "markdown",
   "metadata": {},
   "source": [
    "# Lyricalness"
   ]
  },
  {
   "cell_type": "code",
   "execution_count": null,
   "metadata": {},
   "outputs": [],
   "source": [
    "tracks = []\n",
    "lyrics = []\n",
    "\n",
    "for track, artist in track_dict.items():\n",
    "    tracks.append(track)\n",
    "    lyrics.append(compute_lyricalness(artist, track))\n",
    "\n",
    "df_dict = {\"track\": tracks, \"lyric-count\": lyrics}\n",
    "\n",
    "lyric_df = pd.DataFrame(df_dict)\n",
    "lyric_df.to_csv(\"lyric-data.csv\")\n",
    "\n",
    "# https://www.geeksforgeeks.org/python-remove-none-values-from-list/\n",
    "\n",
    "lyrics_without_na = [x for x in lyrics if x is not None]\n",
    "avg = np.average(lyrics_without_na)\n",
    "print(avg)\n",
    "\n",
    "# https://saturncloud.io/blog/how-to-replace-none-with-nan-in-pandas-dataframe/\n",
    "lyrics_df_without_na = lyric_df.fillna(value=avg)\n",
    "lyrics_df_without_na.to_csv(\"lyric-data-filled.csv\")"
   ]
  },
  {
   "cell_type": "code",
   "execution_count": null,
   "metadata": {},
   "outputs": [],
   "source": [
    "# BPM\n",
    "tracks = []\n",
    "bpms = []\n",
    "\n",
    "for track, artist in track_dict.items():\n",
    "    tracks.append(track)\n",
    "    bpms.append(get_song_bpm(track, artist))\n",
    "\n",
    "df_dict = {\"track\": tracks, \"bpm\": bpms}\n",
    "\n",
    "bpms_without_na = [x for x in bpms if x is not None]\n",
    "avg = np.average(bpms_without_na)\n",
    "\n",
    "bpm_df = pd.DataFrame(df_dict)\n",
    "\n",
    "bpm_df_without_na = bpm_df.fillna(value=avg)\n",
    "\n",
    "\n",
    "bpm_df.to_csv(\"bpm-data.csv\")"
   ]
  },
  {
   "cell_type": "markdown",
   "metadata": {},
   "source": [
    "# Prepare Main Dataset"
   ]
  },
  {
   "cell_type": "code",
   "execution_count": null,
   "metadata": {},
   "outputs": [],
   "source": [
    "lyric_dataset = pd.read_csv(\"lyric-data-filled.csv\")\n",
    "tracks = lyric_dataset[\"track\"]\n",
    "lyrics = lyric_dataset[\"lyric-count\"]\n",
    "\n",
    "lyrics_reference = {}\n",
    "\n",
    "for track, lyric_count in zip(tracks, lyrics):\n",
    "    lyrics_reference[track] = lyric_count\n",
    "\n",
    "lyric_column = []\n",
    "\n",
    "total_tracks = df[\"track-title\"]\n",
    "\n",
    "for track in total_tracks:\n",
    "    lyric_column.append(lyrics_reference[track])"
   ]
  },
  {
   "cell_type": "code",
   "execution_count": null,
   "metadata": {},
   "outputs": [],
   "source": [
    "bpm_dataset = pd.read_csv(\"bpm-data-filled.csv\")\n",
    "tracks = bpm_dataset[\"track\"]\n",
    "bpms = bpm_dataset[\"bpm\"]\n",
    "\n",
    "bpm_reference = {}\n",
    "\n",
    "for track, bpm_measure in zip(tracks, bpms):\n",
    "    bpm_reference[track] = bpm_measure\n",
    "\n",
    "bpm_column = []\n",
    "\n",
    "total_tracks = df[\"track-title\"]\n",
    "\n",
    "for track in total_tracks:\n",
    "    bpm_column.append(bpm_reference[track])"
   ]
  },
  {
   "cell_type": "code",
   "execution_count": null,
   "metadata": {},
   "outputs": [],
   "source": [
    "df[\"bpm\"] = bpm_column\n",
    "df[\"lyric-count\"] = lyric_column"
   ]
  },
  {
   "cell_type": "code",
   "execution_count": null,
   "metadata": {},
   "outputs": [],
   "source": [
    "df.to_csv(\"music-listening-data-with-metadata.csv\")"
   ]
  }
 ],
 "metadata": {
  "language_info": {
   "name": "python"
  }
 },
 "nbformat": 4,
 "nbformat_minor": 2
}
