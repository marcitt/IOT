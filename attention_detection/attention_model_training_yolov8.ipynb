{
 "cells": [
  {
   "cell_type": "code",
   "execution_count": null,
   "metadata": {},
   "outputs": [],
   "source": [
    "# for use in Google Colab:\n",
    "from google.colab import drive\n",
    "drive.mount(\"/content/gdrive\")\n",
    "ROOT_DIR = \"/content/gdrive/MyDrive/IOT\""
   ]
  },
  {
   "cell_type": "code",
   "execution_count": null,
   "metadata": {
    "vscode": {
     "languageId": "shellscript"
    }
   },
   "outputs": [],
   "source": [
    "!pip install ultralytics"
   ]
  },
  {
   "cell_type": "code",
   "execution_count": null,
   "metadata": {},
   "outputs": [],
   "source": [
    "import os\n",
    "from ultralytics import YOLO\n",
    "\n",
    "# Load a pre-trained YOLO model (you can choose n, s, m, l, or x versions)\n",
    "model = YOLO(\"yolov8n.pt\") # pretrained"
   ]
  },
  {
   "cell_type": "code",
   "execution_count": null,
   "metadata": {},
   "outputs": [],
   "source": [
    "results = model.train(data=\"/content/gdrive/MyDrive/IOT/config.yaml\", epochs=100)"
   ]
  },
  {
   "cell_type": "markdown",
   "metadata": {},
   "source": [
    "Key references:\n",
    "\n",
    "[Deep Drowsiness Detection using YOLO, Pytorch and Python - YouTube](https://www.youtube.com/watch?v=tFNJGim3FXw&t=1971s)\n",
    "\n",
    "[Train Yolov8 object detection on a custom dataset | Step by step guide | Computer vision tutorial - YouTube](https://www.youtube.com/watch?v=m9fH9OWn8YM)"
   ]
  }
 ],
 "metadata": {
  "language_info": {
   "name": "python"
  }
 },
 "nbformat": 4,
 "nbformat_minor": 2
}
