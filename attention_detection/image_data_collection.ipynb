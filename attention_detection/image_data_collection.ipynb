{
 "cells": [
  {
   "cell_type": "code",
   "execution_count": null,
   "metadata": {},
   "outputs": [],
   "source": [
    "import cv2\n",
    "import numpy as np\n",
    "\n",
    "import uuid  # used to create a unique identifier\n",
    "import os\n",
    "import time"
   ]
  },
  {
   "cell_type": "markdown",
   "metadata": {},
   "source": [
    "# Experiments\n",
    "\n",
    "Goals:\n",
    "1) Collect data in several environmental conditions (different room, different lighting )"
   ]
  },
  {
   "cell_type": "code",
   "execution_count": null,
   "metadata": {},
   "outputs": [],
   "source": [
    "IMAGES_PATH = \"data/images\"\n",
    "labels = [\"focused\"]\n",
    "number_imgs = 75\n",
    "\n",
    "cap = cv2.VideoCapture(0)\n",
    "for label in labels:\n",
    "    print(\"collecting images for {}\".format(labels))\n",
    "    time.sleep(5)\n",
    "\n",
    "    #loop through images\n",
    "    for img_num in range(number_imgs):\n",
    "        print(\"collecting images for {}, image number {}\".format(label, img_num))\n",
    "\n",
    "        ret, frame = cap.read()\n",
    "\n",
    "        imgname = os.path.join(IMAGES_PATH, label+\".\"+str(uuid.uuid1())+\".jpg\")\n",
    "        cv2.imwrite(imgname, frame)\n",
    "        time.sleep(1)\n",
    "\n",
    "cap.release()"
   ]
  }
 ],
 "metadata": {
  "language_info": {
   "name": "python"
  }
 },
 "nbformat": 4,
 "nbformat_minor": 2
}
