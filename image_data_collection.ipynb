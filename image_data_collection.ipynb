{
 "cells": [
  {
   "cell_type": "code",
   "execution_count": 1,
   "metadata": {},
   "outputs": [],
   "source": [
    "import cv2\n",
    "import numpy as np\n",
    "\n",
    "import uuid  # used to create a unique identifier\n",
    "import os\n",
    "import time\n",
    "\n",
    "import datetime\n",
    "from datetime import date"
   ]
  },
  {
   "cell_type": "code",
   "execution_count": 35,
   "metadata": {},
   "outputs": [],
   "source": []
  },
  {
   "cell_type": "markdown",
   "metadata": {},
   "source": [
    "# Experiments\n",
    "\n",
    "Goals:\n",
    "1) Collect data in several environmental conditions (different room, different lighting )"
   ]
  },
  {
   "cell_type": "code",
   "execution_count": 4,
   "metadata": {},
   "outputs": [],
   "source": [
    "def collect_img_experiment_data(experiment_name, label, total_samples=100, sampling_delay=20):\n",
    "    \n",
    "    IMAGES_PATH = f\"attention_detection/data/exps/{experiment_name}\"\n",
    "\n",
    "    if not os.path.exists(IMAGES_PATH):\n",
    "        os.mkdir(IMAGES_PATH)\n",
    "\n",
    "    cap = cv2.VideoCapture(0)\n",
    "    print(f\"collecting images for {label}\")\n",
    "    time.sleep(5)\n",
    "\n",
    "    # loop through images\n",
    "    for img_num in range(total_samples):\n",
    "        print(\"collecting images for {}, image number {}\".format(label, img_num))\n",
    "\n",
    "        ret, frame = cap.read()\n",
    "\n",
    "        imgname = os.path.join(IMAGES_PATH, label + \".\" + str(uuid.uuid1()) + \".jpg\")\n",
    "        cv2.imwrite(imgname, frame)\n",
    "        time.sleep(sampling_delay)"
   ]
  },
  {
   "cell_type": "code",
   "execution_count": 6,
   "metadata": {},
   "outputs": [
    {
     "name": "stdout",
     "output_type": "stream",
     "text": [
      "collecting images for focused\n",
      "collecting images for focused, image number 0\n",
      "collecting images for focused, image number 1\n",
      "collecting images for focused, image number 2\n",
      "collecting images for focused, image number 3\n",
      "collecting images for focused, image number 4\n",
      "collecting images for focused, image number 5\n",
      "collecting images for focused, image number 6\n",
      "collecting images for focused, image number 7\n",
      "collecting images for focused, image number 8\n"
     ]
    },
    {
     "ename": "KeyboardInterrupt",
     "evalue": "",
     "output_type": "error",
     "traceback": [
      "\u001b[0;31m---------------------------------------------------------------------------\u001b[0m",
      "\u001b[0;31mKeyboardInterrupt\u001b[0m                         Traceback (most recent call last)",
      "Cell \u001b[0;32mIn[6], line 1\u001b[0m\n\u001b[0;32m----> 1\u001b[0m \u001b[43mcollect_img_experiment_data\u001b[49m\u001b[43m(\u001b[49m\u001b[38;5;124;43m\"\u001b[39;49m\u001b[38;5;124;43mprogramming\u001b[39;49m\u001b[38;5;124;43m\"\u001b[39;49m\u001b[43m,\u001b[49m\u001b[43m \u001b[49m\u001b[38;5;124;43m\"\u001b[39;49m\u001b[38;5;124;43mfocused\u001b[39;49m\u001b[38;5;124;43m\"\u001b[39;49m\u001b[43m,\u001b[49m\u001b[43m \u001b[49m\u001b[43msampling_delay\u001b[49m\u001b[38;5;241;43m=\u001b[39;49m\u001b[38;5;241;43m25\u001b[39;49m\u001b[43m)\u001b[49m\n",
      "Cell \u001b[0;32mIn[4], line 20\u001b[0m, in \u001b[0;36mcollect_img_experiment_data\u001b[0;34m(experiment_name, label, total_samples, sampling_delay)\u001b[0m\n\u001b[1;32m     18\u001b[0m imgname \u001b[38;5;241m=\u001b[39m os\u001b[38;5;241m.\u001b[39mpath\u001b[38;5;241m.\u001b[39mjoin(IMAGES_PATH, label \u001b[38;5;241m+\u001b[39m \u001b[38;5;124m\"\u001b[39m\u001b[38;5;124m.\u001b[39m\u001b[38;5;124m\"\u001b[39m \u001b[38;5;241m+\u001b[39m \u001b[38;5;28mstr\u001b[39m(uuid\u001b[38;5;241m.\u001b[39muuid1()) \u001b[38;5;241m+\u001b[39m \u001b[38;5;124m\"\u001b[39m\u001b[38;5;124m.jpg\u001b[39m\u001b[38;5;124m\"\u001b[39m)\n\u001b[1;32m     19\u001b[0m cv2\u001b[38;5;241m.\u001b[39mimwrite(imgname, frame)\n\u001b[0;32m---> 20\u001b[0m \u001b[43mtime\u001b[49m\u001b[38;5;241;43m.\u001b[39;49m\u001b[43msleep\u001b[49m\u001b[43m(\u001b[49m\u001b[43msampling_delay\u001b[49m\u001b[43m)\u001b[49m\n",
      "\u001b[0;31mKeyboardInterrupt\u001b[0m: "
     ]
    }
   ],
   "source": [
    "collect_img_experiment_data(\"programming\", \"focused\", sampling_delay=25)"
   ]
  },
  {
   "cell_type": "code",
   "execution_count": 5,
   "metadata": {},
   "outputs": [
    {
     "name": "stdout",
     "output_type": "stream",
     "text": [
      "collecting images for focused\n",
      "collecting images for focused, image number 0\n"
     ]
    },
    {
     "ename": "KeyboardInterrupt",
     "evalue": "",
     "output_type": "error",
     "traceback": [
      "\u001b[0;31m---------------------------------------------------------------------------\u001b[0m",
      "\u001b[0;31mKeyboardInterrupt\u001b[0m                         Traceback (most recent call last)",
      "Cell \u001b[0;32mIn[5], line 1\u001b[0m\n\u001b[0;32m----> 1\u001b[0m \u001b[43mcollect_img_experiment_data\u001b[49m\u001b[43m(\u001b[49m\u001b[38;5;124;43m\"\u001b[39;49m\u001b[38;5;124;43mnew_test\u001b[39;49m\u001b[38;5;124;43m\"\u001b[39;49m\u001b[43m,\u001b[49m\u001b[43m \u001b[49m\u001b[38;5;124;43m\"\u001b[39;49m\u001b[38;5;124;43mfocused\u001b[39;49m\u001b[38;5;124;43m\"\u001b[39;49m\u001b[43m,\u001b[49m\u001b[43m \u001b[49m\u001b[43msampling_delay\u001b[49m\u001b[38;5;241;43m=\u001b[39;49m\u001b[38;5;241;43m25\u001b[39;49m\u001b[43m)\u001b[49m\n",
      "Cell \u001b[0;32mIn[4], line 20\u001b[0m, in \u001b[0;36mcollect_img_experiment_data\u001b[0;34m(experiment_name, label, total_samples, sampling_delay)\u001b[0m\n\u001b[1;32m     18\u001b[0m imgname \u001b[38;5;241m=\u001b[39m os\u001b[38;5;241m.\u001b[39mpath\u001b[38;5;241m.\u001b[39mjoin(IMAGES_PATH, label \u001b[38;5;241m+\u001b[39m \u001b[38;5;124m\"\u001b[39m\u001b[38;5;124m.\u001b[39m\u001b[38;5;124m\"\u001b[39m \u001b[38;5;241m+\u001b[39m \u001b[38;5;28mstr\u001b[39m(uuid\u001b[38;5;241m.\u001b[39muuid1()) \u001b[38;5;241m+\u001b[39m \u001b[38;5;124m\"\u001b[39m\u001b[38;5;124m.jpg\u001b[39m\u001b[38;5;124m\"\u001b[39m)\n\u001b[1;32m     19\u001b[0m cv2\u001b[38;5;241m.\u001b[39mimwrite(imgname, frame)\n\u001b[0;32m---> 20\u001b[0m \u001b[43mtime\u001b[49m\u001b[38;5;241;43m.\u001b[39;49m\u001b[43msleep\u001b[49m\u001b[43m(\u001b[49m\u001b[43msampling_delay\u001b[49m\u001b[43m)\u001b[49m\n",
      "\u001b[0;31mKeyboardInterrupt\u001b[0m: "
     ]
    }
   ],
   "source": [
    "collect_img_experiment_data(\"new_test\", \"focused\", sampling_delay=25)"
   ]
  },
  {
   "cell_type": "code",
   "execution_count": 36,
   "metadata": {},
   "outputs": [
    {
     "name": "stdout",
     "output_type": "stream",
     "text": [
      "collecting images for ['focused']\n",
      "collecting images for focused, image number 0\n",
      "collecting images for focused, image number 1\n",
      "collecting images for focused, image number 2\n",
      "collecting images for focused, image number 3\n",
      "collecting images for focused, image number 4\n"
     ]
    },
    {
     "ename": "KeyboardInterrupt",
     "evalue": "",
     "output_type": "error",
     "traceback": [
      "\u001b[0;31m---------------------------------------------------------------------------\u001b[0m",
      "\u001b[0;31mKeyboardInterrupt\u001b[0m                         Traceback (most recent call last)",
      "Cell \u001b[0;32mIn[36], line 18\u001b[0m\n\u001b[1;32m     16\u001b[0m         imgname \u001b[38;5;241m=\u001b[39m os\u001b[38;5;241m.\u001b[39mpath\u001b[38;5;241m.\u001b[39mjoin(IMAGES_PATH, label \u001b[38;5;241m+\u001b[39m \u001b[38;5;124m\"\u001b[39m\u001b[38;5;124m.\u001b[39m\u001b[38;5;124m\"\u001b[39m \u001b[38;5;241m+\u001b[39m \u001b[38;5;28mstr\u001b[39m(uuid\u001b[38;5;241m.\u001b[39muuid1()) \u001b[38;5;241m+\u001b[39m \u001b[38;5;124m\"\u001b[39m\u001b[38;5;124m.jpg\u001b[39m\u001b[38;5;124m\"\u001b[39m)\n\u001b[1;32m     17\u001b[0m         cv2\u001b[38;5;241m.\u001b[39mimwrite(imgname, frame)\n\u001b[0;32m---> 18\u001b[0m         \u001b[43mtime\u001b[49m\u001b[38;5;241;43m.\u001b[39;49m\u001b[43msleep\u001b[49m\u001b[43m(\u001b[49m\u001b[38;5;241;43m25\u001b[39;49m\u001b[43m)\u001b[49m\n\u001b[1;32m     20\u001b[0m cap\u001b[38;5;241m.\u001b[39mrelease()\n",
      "\u001b[0;31mKeyboardInterrupt\u001b[0m: "
     ]
    }
   ],
   "source": [
    "IMAGES_PATH = \"attention_detection/data/exps/programming\"\n",
    "labels = [\"focused\"]\n",
    "number_imgs = 100\n",
    "\n",
    "cap = cv2.VideoCapture(0)\n",
    "for label in labels:\n",
    "    print(\"collecting images for {}\".format(labels))\n",
    "    time.sleep(5)\n",
    "\n",
    "    # loop through images\n",
    "    for img_num in range(number_imgs):\n",
    "        print(\"collecting images for {}, image number {}\".format(label, img_num))\n",
    "\n",
    "        ret, frame = cap.read()\n",
    "\n",
    "        imgname = os.path.join(IMAGES_PATH, label + \".\" + str(uuid.uuid1()) + \".jpg\")\n",
    "        cv2.imwrite(imgname, frame)\n",
    "        time.sleep(25)\n",
    "\n",
    "cap.release()"
   ]
  },
  {
   "cell_type": "code",
   "execution_count": 22,
   "metadata": {},
   "outputs": [
    {
     "name": "stdout",
     "output_type": "stream",
     "text": [
      "collecting images for ['focused']\n",
      "collecting images for focused, image number 0\n",
      "collecting images for focused, image number 1\n",
      "collecting images for focused, image number 2\n",
      "collecting images for focused, image number 3\n",
      "collecting images for focused, image number 4\n",
      "collecting images for focused, image number 5\n",
      "collecting images for focused, image number 6\n",
      "collecting images for focused, image number 7\n",
      "collecting images for focused, image number 8\n",
      "collecting images for focused, image number 9\n",
      "collecting images for focused, image number 10\n",
      "collecting images for focused, image number 11\n",
      "collecting images for focused, image number 12\n",
      "collecting images for focused, image number 13\n",
      "collecting images for focused, image number 14\n",
      "collecting images for focused, image number 15\n",
      "collecting images for focused, image number 16\n",
      "collecting images for focused, image number 17\n",
      "collecting images for focused, image number 18\n",
      "collecting images for focused, image number 19\n",
      "collecting images for focused, image number 20\n",
      "collecting images for focused, image number 21\n",
      "collecting images for focused, image number 22\n",
      "collecting images for focused, image number 23\n",
      "collecting images for focused, image number 24\n",
      "collecting images for focused, image number 25\n",
      "collecting images for focused, image number 26\n",
      "collecting images for focused, image number 27\n",
      "collecting images for focused, image number 28\n",
      "collecting images for focused, image number 29\n"
     ]
    },
    {
     "ename": "KeyboardInterrupt",
     "evalue": "",
     "output_type": "error",
     "traceback": [
      "\u001b[0;31m---------------------------------------------------------------------------\u001b[0m",
      "\u001b[0;31mKeyboardInterrupt\u001b[0m                         Traceback (most recent call last)",
      "Cell \u001b[0;32mIn[22], line 18\u001b[0m\n\u001b[1;32m     16\u001b[0m         imgname \u001b[38;5;241m=\u001b[39m os\u001b[38;5;241m.\u001b[39mpath\u001b[38;5;241m.\u001b[39mjoin(IMAGES_PATH, label\u001b[38;5;241m+\u001b[39m\u001b[38;5;124m\"\u001b[39m\u001b[38;5;124m.\u001b[39m\u001b[38;5;124m\"\u001b[39m\u001b[38;5;241m+\u001b[39m\u001b[38;5;28mstr\u001b[39m(uuid\u001b[38;5;241m.\u001b[39muuid1())\u001b[38;5;241m+\u001b[39m\u001b[38;5;124m\"\u001b[39m\u001b[38;5;124m.jpg\u001b[39m\u001b[38;5;124m\"\u001b[39m)\n\u001b[1;32m     17\u001b[0m         cv2\u001b[38;5;241m.\u001b[39mimwrite(imgname, frame)\n\u001b[0;32m---> 18\u001b[0m         \u001b[43mtime\u001b[49m\u001b[38;5;241;43m.\u001b[39;49m\u001b[43msleep\u001b[49m\u001b[43m(\u001b[49m\u001b[38;5;241;43m25\u001b[39;49m\u001b[43m)\u001b[49m\n\u001b[1;32m     20\u001b[0m cap\u001b[38;5;241m.\u001b[39mrelease()\n",
      "\u001b[0;31mKeyboardInterrupt\u001b[0m: "
     ]
    }
   ],
   "source": [
    "IMAGES_PATH = \"attention_detection/data/exps/reading-example-reports\"\n",
    "labels = [\"focused\"]\n",
    "number_imgs = 100\n",
    "\n",
    "cap = cv2.VideoCapture(0)\n",
    "for label in labels:\n",
    "    print(\"collecting images for {}\".format(labels))\n",
    "    time.sleep(5)\n",
    "\n",
    "    #loop through images\n",
    "    for img_num in range(number_imgs):\n",
    "        print(\"collecting images for {}, image number {}\".format(label, img_num))\n",
    "\n",
    "        ret, frame = cap.read()\n",
    "\n",
    "        imgname = os.path.join(IMAGES_PATH, label+\".\"+str(uuid.uuid1())+\".jpg\")\n",
    "        cv2.imwrite(imgname, frame)\n",
    "        time.sleep(25)\n",
    "\n",
    "cap.release()"
   ]
  },
  {
   "cell_type": "code",
   "execution_count": 8,
   "metadata": {},
   "outputs": [],
   "source": [
    "cap = cv2.VideoCapture(0)\n",
    "cap.release()"
   ]
  },
  {
   "cell_type": "code",
   "execution_count": 9,
   "metadata": {},
   "outputs": [],
   "source": [
    "cap.release()"
   ]
  },
  {
   "cell_type": "code",
   "execution_count": 30,
   "metadata": {},
   "outputs": [
    {
     "name": "stdout",
     "output_type": "stream",
     "text": [
      "collecting images for ['distracted']\n",
      "collecting images for distracted, image number 0\n",
      "collecting images for distracted, image number 1\n",
      "collecting images for distracted, image number 2\n",
      "collecting images for distracted, image number 3\n",
      "collecting images for distracted, image number 4\n",
      "collecting images for distracted, image number 5\n",
      "collecting images for distracted, image number 6\n",
      "collecting images for distracted, image number 7\n",
      "collecting images for distracted, image number 8\n",
      "collecting images for distracted, image number 9\n",
      "collecting images for distracted, image number 10\n",
      "collecting images for distracted, image number 11\n",
      "collecting images for distracted, image number 12\n",
      "collecting images for distracted, image number 13\n",
      "collecting images for distracted, image number 14\n",
      "collecting images for distracted, image number 15\n",
      "collecting images for distracted, image number 16\n",
      "collecting images for distracted, image number 17\n"
     ]
    },
    {
     "ename": "KeyboardInterrupt",
     "evalue": "",
     "output_type": "error",
     "traceback": [
      "\u001b[0;31m---------------------------------------------------------------------------\u001b[0m",
      "\u001b[0;31mKeyboardInterrupt\u001b[0m                         Traceback (most recent call last)",
      "Cell \u001b[0;32mIn[30], line 18\u001b[0m\n\u001b[1;32m     16\u001b[0m         imgname \u001b[38;5;241m=\u001b[39m os\u001b[38;5;241m.\u001b[39mpath\u001b[38;5;241m.\u001b[39mjoin(IMAGES_PATH, label \u001b[38;5;241m+\u001b[39m \u001b[38;5;124m\"\u001b[39m\u001b[38;5;124m.\u001b[39m\u001b[38;5;124m\"\u001b[39m \u001b[38;5;241m+\u001b[39m \u001b[38;5;28mstr\u001b[39m(uuid\u001b[38;5;241m.\u001b[39muuid1()) \u001b[38;5;241m+\u001b[39m \u001b[38;5;124m\"\u001b[39m\u001b[38;5;124m.jpg\u001b[39m\u001b[38;5;124m\"\u001b[39m)\n\u001b[1;32m     17\u001b[0m         cv2\u001b[38;5;241m.\u001b[39mimwrite(imgname, frame)\n\u001b[0;32m---> 18\u001b[0m         \u001b[43mtime\u001b[49m\u001b[38;5;241;43m.\u001b[39;49m\u001b[43msleep\u001b[49m\u001b[43m(\u001b[49m\u001b[38;5;241;43m10\u001b[39;49m\u001b[43m)\u001b[49m\n\u001b[1;32m     20\u001b[0m cap\u001b[38;5;241m.\u001b[39mrelease()\n",
      "\u001b[0;31mKeyboardInterrupt\u001b[0m: "
     ]
    }
   ],
   "source": [
    "IMAGES_PATH = \"attention_detection/data/exps/distracted-2\"\n",
    "labels = [\"distracted\"]\n",
    "number_imgs = 100\n",
    "\n",
    "cap = cv2.VideoCapture(0)\n",
    "for label in labels:\n",
    "    print(\"collecting images for {}\".format(labels))\n",
    "    time.sleep(5)\n",
    "\n",
    "    # loop through images\n",
    "    for img_num in range(number_imgs):\n",
    "        print(\"collecting images for {}, image number {}\".format(label, img_num))\n",
    "\n",
    "        ret, frame = cap.read()\n",
    "\n",
    "        imgname = os.path.join(IMAGES_PATH, label + \".\" + str(uuid.uuid1()) + \".jpg\")\n",
    "        cv2.imwrite(imgname, frame)\n",
    "        time.sleep(10)\n",
    "\n",
    "cap.release()"
   ]
  },
  {
   "cell_type": "code",
   "execution_count": 31,
   "metadata": {},
   "outputs": [
    {
     "name": "stdout",
     "output_type": "stream",
     "text": [
      "collecting images for ['distracted']\n",
      "collecting images for distracted, image number 0\n",
      "collecting images for distracted, image number 1\n",
      "collecting images for distracted, image number 2\n"
     ]
    },
    {
     "ename": "KeyboardInterrupt",
     "evalue": "",
     "output_type": "error",
     "traceback": [
      "\u001b[0;31m---------------------------------------------------------------------------\u001b[0m",
      "\u001b[0;31mKeyboardInterrupt\u001b[0m                         Traceback (most recent call last)",
      "Cell \u001b[0;32mIn[31], line 18\u001b[0m\n\u001b[1;32m     16\u001b[0m         imgname \u001b[38;5;241m=\u001b[39m os\u001b[38;5;241m.\u001b[39mpath\u001b[38;5;241m.\u001b[39mjoin(IMAGES_PATH, label \u001b[38;5;241m+\u001b[39m \u001b[38;5;124m\"\u001b[39m\u001b[38;5;124m.\u001b[39m\u001b[38;5;124m\"\u001b[39m \u001b[38;5;241m+\u001b[39m \u001b[38;5;28mstr\u001b[39m(uuid\u001b[38;5;241m.\u001b[39muuid1()) \u001b[38;5;241m+\u001b[39m \u001b[38;5;124m\"\u001b[39m\u001b[38;5;124m.jpg\u001b[39m\u001b[38;5;124m\"\u001b[39m)\n\u001b[1;32m     17\u001b[0m         cv2\u001b[38;5;241m.\u001b[39mimwrite(imgname, frame)\n\u001b[0;32m---> 18\u001b[0m         \u001b[43mtime\u001b[49m\u001b[38;5;241;43m.\u001b[39;49m\u001b[43msleep\u001b[49m\u001b[43m(\u001b[49m\u001b[38;5;241;43m10\u001b[39;49m\u001b[43m)\u001b[49m\n\u001b[1;32m     20\u001b[0m cap\u001b[38;5;241m.\u001b[39mrelease()\n",
      "\u001b[0;31mKeyboardInterrupt\u001b[0m: "
     ]
    }
   ],
   "source": [
    "IMAGES_PATH = \"attention_detection/data/exps/slightly-distracted\"\n",
    "labels = [\"distracted\"]\n",
    "number_imgs = 100\n",
    "\n",
    "cap = cv2.VideoCapture(0)\n",
    "for label in labels:\n",
    "    print(\"collecting images for {}\".format(labels))\n",
    "    time.sleep(5)\n",
    "\n",
    "    # loop through images\n",
    "    for img_num in range(number_imgs):\n",
    "        print(\"collecting images for {}, image number {}\".format(label, img_num))\n",
    "\n",
    "        ret, frame = cap.read()\n",
    "\n",
    "        imgname = os.path.join(IMAGES_PATH, label + \".\" + str(uuid.uuid1()) + \".jpg\")\n",
    "        cv2.imwrite(imgname, frame)\n",
    "        time.sleep(10)\n",
    "\n",
    "cap.release()"
   ]
  }
 ],
 "metadata": {
  "kernelspec": {
   "display_name": "iot_opencv_test",
   "language": "python",
   "name": "python3"
  },
  "language_info": {
   "codemirror_mode": {
    "name": "ipython",
    "version": 3
   },
   "file_extension": ".py",
   "mimetype": "text/x-python",
   "name": "python",
   "nbconvert_exporter": "python",
   "pygments_lexer": "ipython3",
   "version": "3.9.21"
  }
 },
 "nbformat": 4,
 "nbformat_minor": 2
}
