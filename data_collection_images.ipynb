{
 "cells": [
  {
   "cell_type": "code",
   "execution_count": 1,
   "metadata": {},
   "outputs": [],
   "source": [
    "import cv2\n",
    "import numpy as np\n",
    "\n",
    "import uuid  # used to create a unique identifier\n",
    "import os\n",
    "import time\n",
    "\n",
    "import datetime\n",
    "from datetime import date"
   ]
  },
  {
   "cell_type": "code",
   "execution_count": 2,
   "metadata": {},
   "outputs": [],
   "source": [
    "def collect_img_experiment_data(experiment_name, label, total_samples=100, sampling_delay=20):\n",
    "    \n",
    "    IMAGES_PATH = f\"attention_detection/exps/{experiment_name}\"\n",
    "\n",
    "    if not os.path.exists(IMAGES_PATH):\n",
    "        os.mkdir(IMAGES_PATH)\n",
    "\n",
    "    cap = cv2.VideoCapture(0)\n",
    "    print(f\"collecting images for {label}\")\n",
    "    time.sleep(5)\n",
    "\n",
    "    # loop through images\n",
    "    for img_num in range(total_samples):\n",
    "        print(\"collecting images for {}, image number {}\".format(label, img_num))\n",
    "\n",
    "        ret, frame = cap.read()\n",
    "\n",
    "        imgname = os.path.join(IMAGES_PATH, label + \".\" + str(uuid.uuid1()) + \".jpg\")\n",
    "        cv2.imwrite(imgname, frame)\n",
    "        time.sleep(sampling_delay)"
   ]
  },
  {
   "cell_type": "code",
   "execution_count": null,
   "metadata": {},
   "outputs": [],
   "source": [
    "collect_img_experiment_data(\"report-writing\", \"focused\", total_samples=100, sampling_delay=20)"
   ]
  },
  {
   "cell_type": "code",
   "execution_count": null,
   "metadata": {},
   "outputs": [],
   "source": [
    "collect_img_experiment_data(\"research\", \"focused\", total_samples=75, sampling_delay=30)"
   ]
  },
  {
   "cell_type": "code",
   "execution_count": null,
   "metadata": {},
   "outputs": [],
   "source": [
    "collect_img_experiment_data(\"programming\", \"focused\", total_samples=25, sampling_delay=25)"
   ]
  },
  {
   "cell_type": "code",
   "execution_count": null,
   "metadata": {},
   "outputs": [],
   "source": [
    "collect_img_experiment_data(\"planning\", \"focused\", total_samples=10, sampling_delay=20)"
   ]
  },
  {
   "cell_type": "code",
   "execution_count": null,
   "metadata": {},
   "outputs": [],
   "source": [
    "collect_img_experiment_data(\"highly-distracted\", \"distracted\", total_samples=105, sampling_delay=3)"
   ]
  },
  {
   "cell_type": "code",
   "execution_count": null,
   "metadata": {},
   "outputs": [],
   "source": [
    "collect_img_experiment_data(\"distracted\", \"distracted\", total_samples=80, sampling_delay=5)"
   ]
  },
  {
   "cell_type": "code",
   "execution_count": null,
   "metadata": {},
   "outputs": [],
   "source": [
    "collect_img_experiment_data(\n",
    "    \"semi-distracted\", \"distracted\", total_samples=15, sampling_delay=5\n",
    ")"
   ]
  },
  {
   "cell_type": "code",
   "execution_count": 9,
   "metadata": {},
   "outputs": [],
   "source": [
    "cap = cv2.VideoCapture(0)\n",
    "cap.release()"
   ]
  },
  {
   "cell_type": "code",
   "execution_count": 10,
   "metadata": {},
   "outputs": [],
   "source": [
    "cap.release()"
   ]
  }
 ],
 "metadata": {
  "kernelspec": {
   "display_name": "IOT",
   "language": "python",
   "name": "python3"
  },
  "language_info": {
   "codemirror_mode": {
    "name": "ipython",
    "version": 3
   },
   "file_extension": ".py",
   "mimetype": "text/x-python",
   "name": "python",
   "nbconvert_exporter": "python",
   "pygments_lexer": "ipython3",
   "version": "3.9.20"
  }
 },
 "nbformat": 4,
 "nbformat_minor": 2
}
