{
 "cells": [
  {
   "cell_type": "code",
   "execution_count": 1,
   "metadata": {},
   "outputs": [],
   "source": [
    "import cv2\n",
    "import numpy as np\n",
    "\n",
    "import uuid  # used to create a unique identifier\n",
    "import os\n",
    "import time\n",
    "\n",
    "import datetime\n",
    "from datetime import date"
   ]
  },
  {
   "cell_type": "code",
   "execution_count": 4,
   "metadata": {},
   "outputs": [],
   "source": [
    "def collect_img_experiment_data(experiment_name, label, total_samples=100, sampling_delay=20):\n",
    "    \n",
    "    IMAGES_PATH = f\"attention_detection/data/exps/{experiment_name}\"\n",
    "\n",
    "    if not os.path.exists(IMAGES_PATH):\n",
    "        os.mkdir(IMAGES_PATH)\n",
    "\n",
    "    cap = cv2.VideoCapture(0)\n",
    "    print(f\"collecting images for {label}\")\n",
    "    time.sleep(5)\n",
    "\n",
    "    # loop through images\n",
    "    for img_num in range(total_samples):\n",
    "        print(\"collecting images for {}, image number {}\".format(label, img_num))\n",
    "\n",
    "        ret, frame = cap.read()\n",
    "\n",
    "        imgname = os.path.join(IMAGES_PATH, label + \".\" + str(uuid.uuid1()) + \".jpg\")\n",
    "        cv2.imwrite(imgname, frame)\n",
    "        time.sleep(sampling_delay)"
   ]
  },
  {
   "cell_type": "code",
   "execution_count": null,
   "metadata": {},
   "outputs": [],
   "source": [
    "collect_img_experiment_data(\"programming\", \"focused\", sampling_delay=25)"
   ]
  },
  {
   "cell_type": "code",
   "execution_count": 8,
   "metadata": {},
   "outputs": [],
   "source": [
    "cap = cv2.VideoCapture(0)\n",
    "cap.release()"
   ]
  }
 ],
 "metadata": {
  "kernelspec": {
   "display_name": "iot_opencv_test",
   "language": "python",
   "name": "python3"
  },
  "language_info": {
   "codemirror_mode": {
    "name": "ipython",
    "version": 3
   },
   "file_extension": ".py",
   "mimetype": "text/x-python",
   "name": "python",
   "nbconvert_exporter": "python",
   "pygments_lexer": "ipython3",
   "version": "3.9.21"
  }
 },
 "nbformat": 4,
 "nbformat_minor": 2
}
