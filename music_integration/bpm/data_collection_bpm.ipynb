{
 "cells": [
  {
   "cell_type": "code",
   "execution_count": 7,
   "metadata": {},
   "outputs": [],
   "source": [
    "import spotipy\n",
    "from spotipy.oauth2 import SpotifyClientCredentials\n",
    "import os\n",
    "\n",
    "import requests\n",
    "\n",
    "from dotenv import load_dotenv\n",
    "\n",
    "import time\n",
    "\n",
    "load_dotenv()\n",
    "\n",
    "client_id = os.getenv(\"CLIENT_ID\")\n",
    "client_secret = os.getenv(\"CLIENT_SECRET\")\n",
    "\n",
    "# Authentication - use of client cred\n",
    "client_credentials_manager = SpotifyClientCredentials(\n",
    "    client_id=client_id,\n",
    "    client_secret=client_secret,\n",
    ")\n",
    "\n",
    "sp = spotipy.Spotify(client_credentials_manager=client_credentials_manager)"
   ]
  },
  {
   "cell_type": "code",
   "execution_count": 8,
   "metadata": {},
   "outputs": [],
   "source": [
    "import deezer\n",
    "\n",
    "client = deezer.Client()\n",
    "\n",
    "\n",
    "def get_song_bpm(track,artist):\n",
    "    result = client.search(track=track, artist=artist)\n",
    "    if result:\n",
    "        bpm = result[0].bpm\n",
    "        if bpm:\n",
    "            return bpm\n",
    "        else:\n",
    "            print(\"BPM not found\")\n",
    "            return None\n",
    "    else:\n",
    "        print(\"Song Not Found\")\n",
    "        return None"
   ]
  },
  {
   "cell_type": "code",
   "execution_count": null,
   "metadata": {},
   "outputs": [],
   "source": [
    "playlist_id = \"5oAd7leEjwjyXVSIZjov7O\"\n",
    "\n",
    "\n",
    "\n",
    "# Client credentials method does not require authorization\n",
    "def playlist_bpm(playlist_id, sp):\n",
    "    playlist = sp.playlist_tracks(playlist_id)\n",
    "    tracks = []\n",
    "    artists = []\n",
    "    lyricalness = []\n",
    "    for item in playlist[\"items\"]:\n",
    "        artist = item[\"track\"][\"artists\"][0][\"name\"]\n",
    "        track = item[\"track\"][\"name\"]\n",
    "\n",
    "        tracks.append(item[\"track\"][\"name\"])\n",
    "        artists.append(item[\"track\"][\"artists\"][0][\"name\"])\n",
    "\n",
    "        bpm = get_song_bpm()\n",
    "\n",
    "        if lyricalness_metric:\n",
    "            lyricalness.append(lyricalness_metric)\n",
    "        else:\n",
    "            # make assumption lyricalness is average\n",
    "            lyricalness.append(200)\n",
    "\n",
    "    return tracks, artists, lyricalness"
   ]
  },
  {
   "cell_type": "code",
   "execution_count": null,
   "metadata": {},
   "outputs": [],
   "source": []
  },
  {
   "cell_type": "code",
   "execution_count": null,
   "metadata": {},
   "outputs": [],
   "source": [
    "get_song_bpm(\"Steve Lacy\", \"Bad Habit\")"
   ]
  }
 ],
 "metadata": {
  "kernelspec": {
   "display_name": "IOT",
   "language": "python",
   "name": "python3"
  },
  "language_info": {
   "codemirror_mode": {
    "name": "ipython",
    "version": 3
   },
   "file_extension": ".py",
   "mimetype": "text/x-python",
   "name": "python",
   "nbconvert_exporter": "python",
   "pygments_lexer": "ipython3",
   "version": "3.9.20"
  }
 },
 "nbformat": 4,
 "nbformat_minor": 2
}
